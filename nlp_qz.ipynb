{
 "cells": [
  {
   "cell_type": "code",
   "execution_count": 10,
   "metadata": {
    "collapsed": false
   },
   "outputs": [
    {
     "name": "stdout",
     "output_type": "stream",
     "text": [
      "The autotime extension is already loaded. To reload it, use:\n",
      "  %reload_ext autotime\n",
      "time: 57.5 ms\n"
     ]
    }
   ],
   "source": [
    "import pandas as pd\n",
    "from nltk.tokenize import sent_tokenize, word_tokenize\n",
    "from nltk.corpus import stopwords\n",
    "from nltk.stem import WordNetLemmatizer\n",
    "import nltk\n",
    "from textblob import TextBlob\n",
    "\n",
    "# %install_ext https://raw.github.com/cpcloud/ipython-autotime/master/autotime.py\n",
    "%load_ext autotime"
   ]
  },
  {
   "cell_type": "code",
   "execution_count": 2,
   "metadata": {
    "collapsed": false
   },
   "outputs": [
    {
     "name": "stdout",
     "output_type": "stream",
     "text": [
      "time: 579 ms\n"
     ]
    }
   ],
   "source": [
    "df = pd.read_csv('./shooting_text_snippets.csv', index_col='ia_show_id')"
   ]
  },
  {
   "cell_type": "code",
   "execution_count": 3,
   "metadata": {
    "collapsed": false
   },
   "outputs": [
    {
     "data": {
      "text/plain": [
       "(34081, 7)"
      ]
     },
     "execution_count": 3,
     "metadata": {},
     "output_type": "execute_result"
    },
    {
     "name": "stdout",
     "output_type": "stream",
     "text": [
      "time: 15 ms\n"
     ]
    }
   ],
   "source": [
    "df.shape"
   ]
  },
  {
   "cell_type": "code",
   "execution_count": 5,
   "metadata": {
    "collapsed": false
   },
   "outputs": [
    {
     "name": "stdout",
     "output_type": "stream",
     "text": [
      "time: 5min 43s\n"
     ]
    }
   ],
   "source": [
    "def process_content(df, col):\n",
    "    \n",
    "    stop_words = stopwords.words('english')\n",
    "\n",
    "    # tokenization\n",
    "    df['tokenized_words'] = df[col].apply(word_tokenize)\n",
    "    \n",
    "    # removing stop words\n",
    "    df['tokenized_stopped'] = df['tokenized_words'].apply(lambda x: [item for item in x if item not in stop_words])\n",
    "    \n",
    "    # POS tagging\n",
    "    df['tagged_stopped'] = df['tokenized_stopped'].apply(lambda x: nltk.pos_tag(x))\n",
    "    df['tagged'] = df['tokenized_words'].apply(lambda x: nltk.pos_tag(x))\n",
    "\n",
    "    # Selecting adjectives\n",
    "    is_adj = lambda pos: pos[:2].__contains__('JJ')\n",
    "    df['adjectives'] = df['tagged_stopped'].apply(lambda x: [word for (word, pos) in x if is_adj(pos)])\n",
    "    \n",
    "    # Lemmatization\n",
    "    lemmatizer = WordNetLemmatizer()\n",
    "    df['lemmatized'] = df['adjectives'].apply(lambda x: [lemmatizer.lemmatize(item) for item in x])\n",
    "    \n",
    "    # Cleaning the result\n",
    "    df['lemmatized'].str.lower()\n",
    "    df['lemmatized'] = df['lemmatized'].apply(lambda x: [w for w in x if w.isalpha()])\n",
    "\n",
    "    return df\n",
    "\n",
    "df = process_content(df, 'snippet')"
   ]
  },
  {
   "cell_type": "code",
   "execution_count": 6,
   "metadata": {
    "collapsed": false
   },
   "outputs": [
    {
     "data": {
      "text/html": [
       "<div>\n",
       "<table border=\"1\" class=\"dataframe\">\n",
       "  <thead>\n",
       "    <tr style=\"text-align: right;\">\n",
       "      <th></th>\n",
       "      <th>preview_url</th>\n",
       "      <th>date</th>\n",
       "      <th>station</th>\n",
       "      <th>show</th>\n",
       "      <th>show_date</th>\n",
       "      <th>preview_thumb</th>\n",
       "      <th>snippet</th>\n",
       "      <th>tokenized_words</th>\n",
       "      <th>tokenized_stopped</th>\n",
       "      <th>tagged_stopped</th>\n",
       "      <th>tagged</th>\n",
       "      <th>adjectives</th>\n",
       "      <th>lemmatized</th>\n",
       "    </tr>\n",
       "    <tr>\n",
       "      <th>ia_show_id</th>\n",
       "      <th></th>\n",
       "      <th></th>\n",
       "      <th></th>\n",
       "      <th></th>\n",
       "      <th></th>\n",
       "      <th></th>\n",
       "      <th></th>\n",
       "      <th></th>\n",
       "      <th></th>\n",
       "      <th></th>\n",
       "      <th></th>\n",
       "      <th></th>\n",
       "      <th></th>\n",
       "    </tr>\n",
       "  </thead>\n",
       "  <tbody>\n",
       "    <tr>\n",
       "      <th>FOXNEWSW_20171002_190000_Shepard_Smith_Reporting</th>\n",
       "      <td>https://archive.org/details/FOXNEWSW_20171002_...</td>\n",
       "      <td>2017-10-02T19:32:03Z</td>\n",
       "      <td>FOX News</td>\n",
       "      <td>Shepard Smith Reporting</td>\n",
       "      <td>2017-10-02T19:00:00Z</td>\n",
       "      <td>https://archive.org/download/FOXNEWSW_20171002...</td>\n",
       "      <td>shepard: thank you. a live look at the place w...</td>\n",
       "      <td>[shepard, :, thank, you, ., a, live, look, at,...</td>\n",
       "      <td>[shepard, :, thank, ., live, look, place, happ...</td>\n",
       "      <td>[(shepard, NN), (:, :), (thank, NN), (., .), (...</td>\n",
       "      <td>[(shepard, NN), (:, :), (thank, NN), (you, PRP...</td>\n",
       "      <td>[live, quiet, las, hear, much]</td>\n",
       "      <td>[live, quiet, la, hear, much]</td>\n",
       "    </tr>\n",
       "    <tr>\n",
       "      <th>BLOOMBERG_20171002_080000_Bloomberg_Surveillance</th>\n",
       "      <td>https://archive.org/details/BLOOMBERG_20171002...</td>\n",
       "      <td>2017-10-02T08:45:32Z</td>\n",
       "      <td>Bloomberg</td>\n",
       "      <td>Bloomberg Surveillance</td>\n",
       "      <td>2017-10-02T08:00:00Z</td>\n",
       "      <td>https://archive.org/download/BLOOMBERG_2017100...</td>\n",
       "      <td>francine: they kill, thank you so much -- they...</td>\n",
       "      <td>[francine, :, they, kill, ,, thank, you, so, m...</td>\n",
       "      <td>[francine, :, kill, ,, thank, much, --, kill, ...</td>\n",
       "      <td>[(francine, NN), (:, :), (kill, NN), (,, ,), (...</td>\n",
       "      <td>[(francine, NN), (:, :), (they, PRP), (kill, V...</td>\n",
       "      <td>[much, latest, understand, dead, injured]</td>\n",
       "      <td>[much, latest, understand, dead, injured]</td>\n",
       "    </tr>\n",
       "    <tr>\n",
       "      <th>FBC_20171002_130000_Varney__Company</th>\n",
       "      <td>https://archive.org/details/FBC_20171002_13000...</td>\n",
       "      <td>2017-10-02T13:42:51Z</td>\n",
       "      <td>FOX Business</td>\n",
       "      <td>Varney  Company</td>\n",
       "      <td>2017-10-02T13:00:00Z</td>\n",
       "      <td>https://archive.org/download/FBC_20171002_1300...</td>\n",
       "      <td>...and ask about saving $1,000 on your walk-in...</td>\n",
       "      <td>[..., and, ask, about, saving, $, 1,000, on, y...</td>\n",
       "      <td>[..., ask, saving, $, 1,000, walk-in, bath, ,,...</td>\n",
       "      <td>[(..., :), (ask, NN), (saving, VBG), ($, $), (...</td>\n",
       "      <td>[(..., :), (and, CC), (ask, VB), (about, IN), ...</td>\n",
       "      <td>[walk-in, eastern, right, vegas]</td>\n",
       "      <td>[eastern, right, vega]</td>\n",
       "    </tr>\n",
       "    <tr>\n",
       "      <th>BLOOMBERG_20171002_080000_Bloomberg_Surveillance</th>\n",
       "      <td>https://archive.org/details/BLOOMBERG_20171002...</td>\n",
       "      <td>2017-10-02T09:02:10Z</td>\n",
       "      <td>Bloomberg</td>\n",
       "      <td>Bloomberg Surveillance</td>\n",
       "      <td>2017-10-02T08:00:00Z</td>\n",
       "      <td>https://archive.org/download/BLOOMBERG_2017100...</td>\n",
       "      <td>[no audio] the las vegas share says off-duty ...</td>\n",
       "      <td>[[, no, audio, ], the, las, vegas, share, says...</td>\n",
       "      <td>[[, audio, ], las, vegas, share, says, off-dut...</td>\n",
       "      <td>[([, JJ), (audio, NN), (], NNP), (las, VBZ), (...</td>\n",
       "      <td>[([, JJ), (no, DT), (audio, JJ), (], VBZ), (th...</td>\n",
       "      <td>[[, off-duty, mccarran, least, injured, outdoo...</td>\n",
       "      <td>[mccarran, least, injured, outdoor, global, po...</td>\n",
       "    </tr>\n",
       "    <tr>\n",
       "      <th>FBC_20171002_130000_Varney__Company</th>\n",
       "      <td>https://archive.org/details/FBC_20171002_13000...</td>\n",
       "      <td>2017-10-02T13:36:41Z</td>\n",
       "      <td>FOX Business</td>\n",
       "      <td>Varney  Company</td>\n",
       "      <td>2017-10-02T13:00:00Z</td>\n",
       "      <td>https://archive.org/download/FBC_20171002_1300...</td>\n",
       "      <td>still congress is more than frustrating. i am ...</td>\n",
       "      <td>[still, congress, is, more, than, frustrating,...</td>\n",
       "      <td>[still, congress, frustrating, ., furious, ., ...</td>\n",
       "      <td>[(still, RB), (congress, JJ), (frustrating, VB...</td>\n",
       "      <td>[(still, RB), (congress, NN), (is, VBZ), (more...</td>\n",
       "      <td>[congress, furious, deadliest, u.s.]</td>\n",
       "      <td>[congress, furious, deadliest]</td>\n",
       "    </tr>\n",
       "  </tbody>\n",
       "</table>\n",
       "</div>"
      ],
      "text/plain": [
       "                                                                                        preview_url  \\\n",
       "ia_show_id                                                                                            \n",
       "FOXNEWSW_20171002_190000_Shepard_Smith_Reporting  https://archive.org/details/FOXNEWSW_20171002_...   \n",
       "BLOOMBERG_20171002_080000_Bloomberg_Surveillance  https://archive.org/details/BLOOMBERG_20171002...   \n",
       "FBC_20171002_130000_Varney__Company               https://archive.org/details/FBC_20171002_13000...   \n",
       "BLOOMBERG_20171002_080000_Bloomberg_Surveillance  https://archive.org/details/BLOOMBERG_20171002...   \n",
       "FBC_20171002_130000_Varney__Company               https://archive.org/details/FBC_20171002_13000...   \n",
       "\n",
       "                                                                  date  \\\n",
       "ia_show_id                                                               \n",
       "FOXNEWSW_20171002_190000_Shepard_Smith_Reporting  2017-10-02T19:32:03Z   \n",
       "BLOOMBERG_20171002_080000_Bloomberg_Surveillance  2017-10-02T08:45:32Z   \n",
       "FBC_20171002_130000_Varney__Company               2017-10-02T13:42:51Z   \n",
       "BLOOMBERG_20171002_080000_Bloomberg_Surveillance  2017-10-02T09:02:10Z   \n",
       "FBC_20171002_130000_Varney__Company               2017-10-02T13:36:41Z   \n",
       "\n",
       "                                                       station  \\\n",
       "ia_show_id                                                       \n",
       "FOXNEWSW_20171002_190000_Shepard_Smith_Reporting      FOX News   \n",
       "BLOOMBERG_20171002_080000_Bloomberg_Surveillance     Bloomberg   \n",
       "FBC_20171002_130000_Varney__Company               FOX Business   \n",
       "BLOOMBERG_20171002_080000_Bloomberg_Surveillance     Bloomberg   \n",
       "FBC_20171002_130000_Varney__Company               FOX Business   \n",
       "\n",
       "                                                                     show  \\\n",
       "ia_show_id                                                                  \n",
       "FOXNEWSW_20171002_190000_Shepard_Smith_Reporting  Shepard Smith Reporting   \n",
       "BLOOMBERG_20171002_080000_Bloomberg_Surveillance   Bloomberg Surveillance   \n",
       "FBC_20171002_130000_Varney__Company                       Varney  Company   \n",
       "BLOOMBERG_20171002_080000_Bloomberg_Surveillance   Bloomberg Surveillance   \n",
       "FBC_20171002_130000_Varney__Company                       Varney  Company   \n",
       "\n",
       "                                                             show_date  \\\n",
       "ia_show_id                                                               \n",
       "FOXNEWSW_20171002_190000_Shepard_Smith_Reporting  2017-10-02T19:00:00Z   \n",
       "BLOOMBERG_20171002_080000_Bloomberg_Surveillance  2017-10-02T08:00:00Z   \n",
       "FBC_20171002_130000_Varney__Company               2017-10-02T13:00:00Z   \n",
       "BLOOMBERG_20171002_080000_Bloomberg_Surveillance  2017-10-02T08:00:00Z   \n",
       "FBC_20171002_130000_Varney__Company               2017-10-02T13:00:00Z   \n",
       "\n",
       "                                                                                      preview_thumb  \\\n",
       "ia_show_id                                                                                            \n",
       "FOXNEWSW_20171002_190000_Shepard_Smith_Reporting  https://archive.org/download/FOXNEWSW_20171002...   \n",
       "BLOOMBERG_20171002_080000_Bloomberg_Surveillance  https://archive.org/download/BLOOMBERG_2017100...   \n",
       "FBC_20171002_130000_Varney__Company               https://archive.org/download/FBC_20171002_1300...   \n",
       "BLOOMBERG_20171002_080000_Bloomberg_Surveillance  https://archive.org/download/BLOOMBERG_2017100...   \n",
       "FBC_20171002_130000_Varney__Company               https://archive.org/download/FBC_20171002_1300...   \n",
       "\n",
       "                                                                                            snippet  \\\n",
       "ia_show_id                                                                                            \n",
       "FOXNEWSW_20171002_190000_Shepard_Smith_Reporting  shepard: thank you. a live look at the place w...   \n",
       "BLOOMBERG_20171002_080000_Bloomberg_Surveillance  francine: they kill, thank you so much -- they...   \n",
       "FBC_20171002_130000_Varney__Company               ...and ask about saving $1,000 on your walk-in...   \n",
       "BLOOMBERG_20171002_080000_Bloomberg_Surveillance   [no audio] the las vegas share says off-duty ...   \n",
       "FBC_20171002_130000_Varney__Company               still congress is more than frustrating. i am ...   \n",
       "\n",
       "                                                                                    tokenized_words  \\\n",
       "ia_show_id                                                                                            \n",
       "FOXNEWSW_20171002_190000_Shepard_Smith_Reporting  [shepard, :, thank, you, ., a, live, look, at,...   \n",
       "BLOOMBERG_20171002_080000_Bloomberg_Surveillance  [francine, :, they, kill, ,, thank, you, so, m...   \n",
       "FBC_20171002_130000_Varney__Company               [..., and, ask, about, saving, $, 1,000, on, y...   \n",
       "BLOOMBERG_20171002_080000_Bloomberg_Surveillance  [[, no, audio, ], the, las, vegas, share, says...   \n",
       "FBC_20171002_130000_Varney__Company               [still, congress, is, more, than, frustrating,...   \n",
       "\n",
       "                                                                                  tokenized_stopped  \\\n",
       "ia_show_id                                                                                            \n",
       "FOXNEWSW_20171002_190000_Shepard_Smith_Reporting  [shepard, :, thank, ., live, look, place, happ...   \n",
       "BLOOMBERG_20171002_080000_Bloomberg_Surveillance  [francine, :, kill, ,, thank, much, --, kill, ...   \n",
       "FBC_20171002_130000_Varney__Company               [..., ask, saving, $, 1,000, walk-in, bath, ,,...   \n",
       "BLOOMBERG_20171002_080000_Bloomberg_Surveillance  [[, audio, ], las, vegas, share, says, off-dut...   \n",
       "FBC_20171002_130000_Varney__Company               [still, congress, frustrating, ., furious, ., ...   \n",
       "\n",
       "                                                                                     tagged_stopped  \\\n",
       "ia_show_id                                                                                            \n",
       "FOXNEWSW_20171002_190000_Shepard_Smith_Reporting  [(shepard, NN), (:, :), (thank, NN), (., .), (...   \n",
       "BLOOMBERG_20171002_080000_Bloomberg_Surveillance  [(francine, NN), (:, :), (kill, NN), (,, ,), (...   \n",
       "FBC_20171002_130000_Varney__Company               [(..., :), (ask, NN), (saving, VBG), ($, $), (...   \n",
       "BLOOMBERG_20171002_080000_Bloomberg_Surveillance  [([, JJ), (audio, NN), (], NNP), (las, VBZ), (...   \n",
       "FBC_20171002_130000_Varney__Company               [(still, RB), (congress, JJ), (frustrating, VB...   \n",
       "\n",
       "                                                                                             tagged  \\\n",
       "ia_show_id                                                                                            \n",
       "FOXNEWSW_20171002_190000_Shepard_Smith_Reporting  [(shepard, NN), (:, :), (thank, NN), (you, PRP...   \n",
       "BLOOMBERG_20171002_080000_Bloomberg_Surveillance  [(francine, NN), (:, :), (they, PRP), (kill, V...   \n",
       "FBC_20171002_130000_Varney__Company               [(..., :), (and, CC), (ask, VB), (about, IN), ...   \n",
       "BLOOMBERG_20171002_080000_Bloomberg_Surveillance  [([, JJ), (no, DT), (audio, JJ), (], VBZ), (th...   \n",
       "FBC_20171002_130000_Varney__Company               [(still, RB), (congress, NN), (is, VBZ), (more...   \n",
       "\n",
       "                                                                                         adjectives  \\\n",
       "ia_show_id                                                                                            \n",
       "FOXNEWSW_20171002_190000_Shepard_Smith_Reporting                     [live, quiet, las, hear, much]   \n",
       "BLOOMBERG_20171002_080000_Bloomberg_Surveillance          [much, latest, understand, dead, injured]   \n",
       "FBC_20171002_130000_Varney__Company                                [walk-in, eastern, right, vegas]   \n",
       "BLOOMBERG_20171002_080000_Bloomberg_Surveillance  [[, off-duty, mccarran, least, injured, outdoo...   \n",
       "FBC_20171002_130000_Varney__Company                            [congress, furious, deadliest, u.s.]   \n",
       "\n",
       "                                                                                         lemmatized  \n",
       "ia_show_id                                                                                           \n",
       "FOXNEWSW_20171002_190000_Shepard_Smith_Reporting                      [live, quiet, la, hear, much]  \n",
       "BLOOMBERG_20171002_080000_Bloomberg_Surveillance          [much, latest, understand, dead, injured]  \n",
       "FBC_20171002_130000_Varney__Company                                          [eastern, right, vega]  \n",
       "BLOOMBERG_20171002_080000_Bloomberg_Surveillance  [mccarran, least, injured, outdoor, global, po...  \n",
       "FBC_20171002_130000_Varney__Company                                  [congress, furious, deadliest]  "
      ]
     },
     "execution_count": 6,
     "metadata": {},
     "output_type": "execute_result"
    },
    {
     "name": "stdout",
     "output_type": "stream",
     "text": [
      "time: 151 ms\n"
     ]
    }
   ],
   "source": [
    "df.head()"
   ]
  },
  {
   "cell_type": "code",
   "execution_count": 17,
   "metadata": {
    "collapsed": false
   },
   "outputs": [
    {
     "name": "stdout",
     "output_type": "stream",
     "text": [
      "time: 10.7 s\n"
     ]
    }
   ],
   "source": [
    "df.to_csv('./df_new_0410.csv')"
   ]
  },
  {
   "cell_type": "code",
   "execution_count": 8,
   "metadata": {
    "collapsed": false
   },
   "outputs": [
    {
     "name": "stdout",
     "output_type": "stream",
     "text": [
      "time: 809 ms\n"
     ]
    }
   ],
   "source": [
    "df.reset_index(inplace=True)\n",
    "df_grouped = pd.DataFrame(df.groupby('ia_show_id')['lemmatized'].apply(lambda x: x.sum()))\n",
    "df_grouped.head()"
   ]
  },
  {
   "cell_type": "code",
   "execution_count": 9,
   "metadata": {
    "collapsed": false
   },
   "outputs": [
    {
     "data": {
      "text/html": [
       "<div>\n",
       "<table border=\"1\" class=\"dataframe\">\n",
       "  <thead>\n",
       "    <tr style=\"text-align: right;\">\n",
       "      <th></th>\n",
       "      <th>lemmatized</th>\n",
       "    </tr>\n",
       "    <tr>\n",
       "      <th>ia_show_id</th>\n",
       "      <th></th>\n",
       "    </tr>\n",
       "  </thead>\n",
       "  <tbody>\n",
       "    <tr>\n",
       "      <th>BLOOMBERG_20140220_150000_Market_Makers</th>\n",
       "      <td>[last, chaotic, coming, speak, jeffrey, ukrain...</td>\n",
       "    </tr>\n",
       "    <tr>\n",
       "      <th>BLOOMBERG_20140220_180000_Bloomberg_West</th>\n",
       "      <td>[bloomberg, live, central, latest, nearby, squ...</td>\n",
       "    </tr>\n",
       "    <tr>\n",
       "      <th>BLOOMBERG_20140221_130000_In_the_Loop_With_Betty_Liu</th>\n",
       "      <td>[huge, big, biggest, main]</td>\n",
       "    </tr>\n",
       "    <tr>\n",
       "      <th>BLOOMBERG_20140221_200000_Street_Smart_with_Trish_Regan_and_Adam_Johnson</th>\n",
       "      <td>[civil, best, angry, violent, national, tear, ...</td>\n",
       "    </tr>\n",
       "    <tr>\n",
       "      <th>BLOOMBERG_20140403_050000_Countdown</th>\n",
       "      <td>[strong, top, top, national, texas]</td>\n",
       "    </tr>\n",
       "  </tbody>\n",
       "</table>\n",
       "</div>"
      ],
      "text/plain": [
       "                                                                                           lemmatized\n",
       "ia_show_id                                                                                           \n",
       "BLOOMBERG_20140220_150000_Market_Makers             [last, chaotic, coming, speak, jeffrey, ukrain...\n",
       "BLOOMBERG_20140220_180000_Bloomberg_West            [bloomberg, live, central, latest, nearby, squ...\n",
       "BLOOMBERG_20140221_130000_In_the_Loop_With_Bett...                         [huge, big, biggest, main]\n",
       "BLOOMBERG_20140221_200000_Street_Smart_with_Tri...  [civil, best, angry, violent, national, tear, ...\n",
       "BLOOMBERG_20140403_050000_Countdown                               [strong, top, top, national, texas]"
      ]
     },
     "execution_count": 9,
     "metadata": {},
     "output_type": "execute_result"
    },
    {
     "name": "stdout",
     "output_type": "stream",
     "text": [
      "time: 116 ms\n"
     ]
    }
   ],
   "source": [
    "# df_grouped['lemmatized'].str.lower()\n",
    "# df_grouped['lemmatized'] = df_grouped['lemmatized'].apply(lambda x: [w for w in x if w.isalpha()])\n",
    "\n",
    "# nltk.FreqDist(df_grouped[''])     ### this can be used later\n",
    "# most_common(15)"
   ]
  },
  {
   "cell_type": "code",
   "execution_count": 11,
   "metadata": {
    "collapsed": false
   },
   "outputs": [
    {
     "name": "stdout",
     "output_type": "stream",
     "text": [
      "time: 3.23 ms\n"
     ]
    }
   ],
   "source": [
    "def sent_score(word):\n",
    "    score = 0\n",
    "    a = TextBlob(word).sentiment\n",
    "    score += (a.polarity * a.subjectivity)\n",
    "    return score"
   ]
  },
  {
   "cell_type": "code",
   "execution_count": 12,
   "metadata": {
    "collapsed": false
   },
   "outputs": [
    {
     "name": "stdout",
     "output_type": "stream",
     "text": [
      "time: 12.9 s\n"
     ]
    }
   ],
   "source": [
    "df_grouped['score'] = df_grouped['lemmatized'].apply(lambda x: [sent_score(item) for item in x])\n",
    "df_grouped['sentiment'] = df_grouped['score'].apply(lambda x: sum(x))"
   ]
  },
  {
   "cell_type": "code",
   "execution_count": 13,
   "metadata": {
    "collapsed": false
   },
   "outputs": [
    {
     "name": "stdout",
     "output_type": "stream",
     "text": [
      "time: 287 ms\n"
     ]
    }
   ],
   "source": [
    "df_grouped.to_csv('./grouped_sentiment_0410.csv', index=False)"
   ]
  },
  {
   "cell_type": "code",
   "execution_count": 14,
   "metadata": {
    "collapsed": false
   },
   "outputs": [
    {
     "data": {
      "text/html": [
       "<div>\n",
       "<table border=\"1\" class=\"dataframe\">\n",
       "  <thead>\n",
       "    <tr style=\"text-align: right;\">\n",
       "      <th></th>\n",
       "      <th>ia_show_id</th>\n",
       "      <th>preview_url</th>\n",
       "      <th>date</th>\n",
       "      <th>station</th>\n",
       "      <th>show</th>\n",
       "      <th>show_date</th>\n",
       "      <th>preview_thumb</th>\n",
       "      <th>snippet</th>\n",
       "      <th>tokenized_words</th>\n",
       "      <th>tokenized_stopped</th>\n",
       "      <th>tagged_stopped</th>\n",
       "      <th>tagged</th>\n",
       "      <th>adjectives</th>\n",
       "      <th>lemmatized</th>\n",
       "    </tr>\n",
       "  </thead>\n",
       "  <tbody>\n",
       "    <tr>\n",
       "      <th>0</th>\n",
       "      <td>FOXNEWSW_20171002_190000_Shepard_Smith_Reporting</td>\n",
       "      <td>https://archive.org/details/FOXNEWSW_20171002_...</td>\n",
       "      <td>2017-10-02T19:32:03Z</td>\n",
       "      <td>FOX News</td>\n",
       "      <td>Shepard Smith Reporting</td>\n",
       "      <td>2017-10-02T19:00:00Z</td>\n",
       "      <td>https://archive.org/download/FOXNEWSW_20171002...</td>\n",
       "      <td>shepard: thank you. a live look at the place w...</td>\n",
       "      <td>[shepard, :, thank, you, ., a, live, look, at,...</td>\n",
       "      <td>[shepard, :, thank, ., live, look, place, happ...</td>\n",
       "      <td>[(shepard, NN), (:, :), (thank, NN), (., .), (...</td>\n",
       "      <td>[(shepard, NN), (:, :), (thank, NN), (you, PRP...</td>\n",
       "      <td>[live, quiet, las, hear, much]</td>\n",
       "      <td>[live, quiet, la, hear, much]</td>\n",
       "    </tr>\n",
       "    <tr>\n",
       "      <th>1</th>\n",
       "      <td>BLOOMBERG_20171002_080000_Bloomberg_Surveillance</td>\n",
       "      <td>https://archive.org/details/BLOOMBERG_20171002...</td>\n",
       "      <td>2017-10-02T08:45:32Z</td>\n",
       "      <td>Bloomberg</td>\n",
       "      <td>Bloomberg Surveillance</td>\n",
       "      <td>2017-10-02T08:00:00Z</td>\n",
       "      <td>https://archive.org/download/BLOOMBERG_2017100...</td>\n",
       "      <td>francine: they kill, thank you so much -- they...</td>\n",
       "      <td>[francine, :, they, kill, ,, thank, you, so, m...</td>\n",
       "      <td>[francine, :, kill, ,, thank, much, --, kill, ...</td>\n",
       "      <td>[(francine, NN), (:, :), (kill, NN), (,, ,), (...</td>\n",
       "      <td>[(francine, NN), (:, :), (they, PRP), (kill, V...</td>\n",
       "      <td>[much, latest, understand, dead, injured]</td>\n",
       "      <td>[much, latest, understand, dead, injured]</td>\n",
       "    </tr>\n",
       "    <tr>\n",
       "      <th>2</th>\n",
       "      <td>FBC_20171002_130000_Varney__Company</td>\n",
       "      <td>https://archive.org/details/FBC_20171002_13000...</td>\n",
       "      <td>2017-10-02T13:42:51Z</td>\n",
       "      <td>FOX Business</td>\n",
       "      <td>Varney  Company</td>\n",
       "      <td>2017-10-02T13:00:00Z</td>\n",
       "      <td>https://archive.org/download/FBC_20171002_1300...</td>\n",
       "      <td>...and ask about saving $1,000 on your walk-in...</td>\n",
       "      <td>[..., and, ask, about, saving, $, 1,000, on, y...</td>\n",
       "      <td>[..., ask, saving, $, 1,000, walk-in, bath, ,,...</td>\n",
       "      <td>[(..., :), (ask, NN), (saving, VBG), ($, $), (...</td>\n",
       "      <td>[(..., :), (and, CC), (ask, VB), (about, IN), ...</td>\n",
       "      <td>[walk-in, eastern, right, vegas]</td>\n",
       "      <td>[eastern, right, vega]</td>\n",
       "    </tr>\n",
       "    <tr>\n",
       "      <th>3</th>\n",
       "      <td>BLOOMBERG_20171002_080000_Bloomberg_Surveillance</td>\n",
       "      <td>https://archive.org/details/BLOOMBERG_20171002...</td>\n",
       "      <td>2017-10-02T09:02:10Z</td>\n",
       "      <td>Bloomberg</td>\n",
       "      <td>Bloomberg Surveillance</td>\n",
       "      <td>2017-10-02T08:00:00Z</td>\n",
       "      <td>https://archive.org/download/BLOOMBERG_2017100...</td>\n",
       "      <td>[no audio] the las vegas share says off-duty ...</td>\n",
       "      <td>[[, no, audio, ], the, las, vegas, share, says...</td>\n",
       "      <td>[[, audio, ], las, vegas, share, says, off-dut...</td>\n",
       "      <td>[([, JJ), (audio, NN), (], NNP), (las, VBZ), (...</td>\n",
       "      <td>[([, JJ), (no, DT), (audio, JJ), (], VBZ), (th...</td>\n",
       "      <td>[[, off-duty, mccarran, least, injured, outdoo...</td>\n",
       "      <td>[mccarran, least, injured, outdoor, global, po...</td>\n",
       "    </tr>\n",
       "    <tr>\n",
       "      <th>4</th>\n",
       "      <td>FBC_20171002_130000_Varney__Company</td>\n",
       "      <td>https://archive.org/details/FBC_20171002_13000...</td>\n",
       "      <td>2017-10-02T13:36:41Z</td>\n",
       "      <td>FOX Business</td>\n",
       "      <td>Varney  Company</td>\n",
       "      <td>2017-10-02T13:00:00Z</td>\n",
       "      <td>https://archive.org/download/FBC_20171002_1300...</td>\n",
       "      <td>still congress is more than frustrating. i am ...</td>\n",
       "      <td>[still, congress, is, more, than, frustrating,...</td>\n",
       "      <td>[still, congress, frustrating, ., furious, ., ...</td>\n",
       "      <td>[(still, RB), (congress, JJ), (frustrating, VB...</td>\n",
       "      <td>[(still, RB), (congress, NN), (is, VBZ), (more...</td>\n",
       "      <td>[congress, furious, deadliest, u.s.]</td>\n",
       "      <td>[congress, furious, deadliest]</td>\n",
       "    </tr>\n",
       "  </tbody>\n",
       "</table>\n",
       "</div>"
      ],
      "text/plain": [
       "                                         ia_show_id  \\\n",
       "0  FOXNEWSW_20171002_190000_Shepard_Smith_Reporting   \n",
       "1  BLOOMBERG_20171002_080000_Bloomberg_Surveillance   \n",
       "2               FBC_20171002_130000_Varney__Company   \n",
       "3  BLOOMBERG_20171002_080000_Bloomberg_Surveillance   \n",
       "4               FBC_20171002_130000_Varney__Company   \n",
       "\n",
       "                                         preview_url                  date  \\\n",
       "0  https://archive.org/details/FOXNEWSW_20171002_...  2017-10-02T19:32:03Z   \n",
       "1  https://archive.org/details/BLOOMBERG_20171002...  2017-10-02T08:45:32Z   \n",
       "2  https://archive.org/details/FBC_20171002_13000...  2017-10-02T13:42:51Z   \n",
       "3  https://archive.org/details/BLOOMBERG_20171002...  2017-10-02T09:02:10Z   \n",
       "4  https://archive.org/details/FBC_20171002_13000...  2017-10-02T13:36:41Z   \n",
       "\n",
       "        station                     show             show_date  \\\n",
       "0      FOX News  Shepard Smith Reporting  2017-10-02T19:00:00Z   \n",
       "1     Bloomberg   Bloomberg Surveillance  2017-10-02T08:00:00Z   \n",
       "2  FOX Business          Varney  Company  2017-10-02T13:00:00Z   \n",
       "3     Bloomberg   Bloomberg Surveillance  2017-10-02T08:00:00Z   \n",
       "4  FOX Business          Varney  Company  2017-10-02T13:00:00Z   \n",
       "\n",
       "                                       preview_thumb  \\\n",
       "0  https://archive.org/download/FOXNEWSW_20171002...   \n",
       "1  https://archive.org/download/BLOOMBERG_2017100...   \n",
       "2  https://archive.org/download/FBC_20171002_1300...   \n",
       "3  https://archive.org/download/BLOOMBERG_2017100...   \n",
       "4  https://archive.org/download/FBC_20171002_1300...   \n",
       "\n",
       "                                             snippet  \\\n",
       "0  shepard: thank you. a live look at the place w...   \n",
       "1  francine: they kill, thank you so much -- they...   \n",
       "2  ...and ask about saving $1,000 on your walk-in...   \n",
       "3   [no audio] the las vegas share says off-duty ...   \n",
       "4  still congress is more than frustrating. i am ...   \n",
       "\n",
       "                                     tokenized_words  \\\n",
       "0  [shepard, :, thank, you, ., a, live, look, at,...   \n",
       "1  [francine, :, they, kill, ,, thank, you, so, m...   \n",
       "2  [..., and, ask, about, saving, $, 1,000, on, y...   \n",
       "3  [[, no, audio, ], the, las, vegas, share, says...   \n",
       "4  [still, congress, is, more, than, frustrating,...   \n",
       "\n",
       "                                   tokenized_stopped  \\\n",
       "0  [shepard, :, thank, ., live, look, place, happ...   \n",
       "1  [francine, :, kill, ,, thank, much, --, kill, ...   \n",
       "2  [..., ask, saving, $, 1,000, walk-in, bath, ,,...   \n",
       "3  [[, audio, ], las, vegas, share, says, off-dut...   \n",
       "4  [still, congress, frustrating, ., furious, ., ...   \n",
       "\n",
       "                                      tagged_stopped  \\\n",
       "0  [(shepard, NN), (:, :), (thank, NN), (., .), (...   \n",
       "1  [(francine, NN), (:, :), (kill, NN), (,, ,), (...   \n",
       "2  [(..., :), (ask, NN), (saving, VBG), ($, $), (...   \n",
       "3  [([, JJ), (audio, NN), (], NNP), (las, VBZ), (...   \n",
       "4  [(still, RB), (congress, JJ), (frustrating, VB...   \n",
       "\n",
       "                                              tagged  \\\n",
       "0  [(shepard, NN), (:, :), (thank, NN), (you, PRP...   \n",
       "1  [(francine, NN), (:, :), (they, PRP), (kill, V...   \n",
       "2  [(..., :), (and, CC), (ask, VB), (about, IN), ...   \n",
       "3  [([, JJ), (no, DT), (audio, JJ), (], VBZ), (th...   \n",
       "4  [(still, RB), (congress, NN), (is, VBZ), (more...   \n",
       "\n",
       "                                          adjectives  \\\n",
       "0                     [live, quiet, las, hear, much]   \n",
       "1          [much, latest, understand, dead, injured]   \n",
       "2                   [walk-in, eastern, right, vegas]   \n",
       "3  [[, off-duty, mccarran, least, injured, outdoo...   \n",
       "4               [congress, furious, deadliest, u.s.]   \n",
       "\n",
       "                                          lemmatized  \n",
       "0                      [live, quiet, la, hear, much]  \n",
       "1          [much, latest, understand, dead, injured]  \n",
       "2                             [eastern, right, vega]  \n",
       "3  [mccarran, least, injured, outdoor, global, po...  \n",
       "4                     [congress, furious, deadliest]  "
      ]
     },
     "execution_count": 14,
     "metadata": {},
     "output_type": "execute_result"
    },
    {
     "name": "stdout",
     "output_type": "stream",
     "text": [
      "time: 189 ms\n"
     ]
    }
   ],
   "source": [
    "df.head()"
   ]
  },
  {
   "cell_type": "code",
   "execution_count": 15,
   "metadata": {
    "collapsed": false
   },
   "outputs": [
    {
     "name": "stdout",
     "output_type": "stream",
     "text": [
      "time: 15.4 s\n"
     ]
    }
   ],
   "source": [
    "df['score'] = df['lemmatized'].apply(lambda x: [sent_score(item) for item in x])\n",
    "df['sentiment'] = df['score'].apply(lambda x: sum(x))"
   ]
  },
  {
   "cell_type": "code",
   "execution_count": 16,
   "metadata": {
    "collapsed": false
   },
   "outputs": [
    {
     "data": {
      "text/html": [
       "<div>\n",
       "<table border=\"1\" class=\"dataframe\">\n",
       "  <thead>\n",
       "    <tr style=\"text-align: right;\">\n",
       "      <th></th>\n",
       "      <th>ia_show_id</th>\n",
       "      <th>preview_url</th>\n",
       "      <th>date</th>\n",
       "      <th>station</th>\n",
       "      <th>show</th>\n",
       "      <th>show_date</th>\n",
       "      <th>preview_thumb</th>\n",
       "      <th>snippet</th>\n",
       "      <th>tokenized_words</th>\n",
       "      <th>tokenized_stopped</th>\n",
       "      <th>tagged_stopped</th>\n",
       "      <th>tagged</th>\n",
       "      <th>adjectives</th>\n",
       "      <th>lemmatized</th>\n",
       "      <th>score</th>\n",
       "      <th>sentiment</th>\n",
       "    </tr>\n",
       "  </thead>\n",
       "  <tbody>\n",
       "    <tr>\n",
       "      <th>0</th>\n",
       "      <td>FOXNEWSW_20171002_190000_Shepard_Smith_Reporting</td>\n",
       "      <td>https://archive.org/details/FOXNEWSW_20171002_...</td>\n",
       "      <td>2017-10-02T19:32:03Z</td>\n",
       "      <td>FOX News</td>\n",
       "      <td>Shepard Smith Reporting</td>\n",
       "      <td>2017-10-02T19:00:00Z</td>\n",
       "      <td>https://archive.org/download/FOXNEWSW_20171002...</td>\n",
       "      <td>shepard: thank you. a live look at the place w...</td>\n",
       "      <td>[shepard, :, thank, you, ., a, live, look, at,...</td>\n",
       "      <td>[shepard, :, thank, ., live, look, place, happ...</td>\n",
       "      <td>[(shepard, NN), (:, :), (thank, NN), (., .), (...</td>\n",
       "      <td>[(shepard, NN), (:, :), (thank, NN), (you, PRP...</td>\n",
       "      <td>[live, quiet, las, hear, much]</td>\n",
       "      <td>[live, quiet, la, hear, much]</td>\n",
       "      <td>[0.06818181818181818, 0.0, 0.0, 0.0, 0.0400000...</td>\n",
       "      <td>0.108182</td>\n",
       "    </tr>\n",
       "    <tr>\n",
       "      <th>1</th>\n",
       "      <td>BLOOMBERG_20171002_080000_Bloomberg_Surveillance</td>\n",
       "      <td>https://archive.org/details/BLOOMBERG_20171002...</td>\n",
       "      <td>2017-10-02T08:45:32Z</td>\n",
       "      <td>Bloomberg</td>\n",
       "      <td>Bloomberg Surveillance</td>\n",
       "      <td>2017-10-02T08:00:00Z</td>\n",
       "      <td>https://archive.org/download/BLOOMBERG_2017100...</td>\n",
       "      <td>francine: they kill, thank you so much -- they...</td>\n",
       "      <td>[francine, :, they, kill, ,, thank, you, so, m...</td>\n",
       "      <td>[francine, :, kill, ,, thank, much, --, kill, ...</td>\n",
       "      <td>[(francine, NN), (:, :), (kill, NN), (,, ,), (...</td>\n",
       "      <td>[(francine, NN), (:, :), (they, PRP), (kill, V...</td>\n",
       "      <td>[much, latest, understand, dead, injured]</td>\n",
       "      <td>[much, latest, understand, dead, injured]</td>\n",
       "      <td>[0.04000000000000001, 0.45, 0.0, -0.0800000000...</td>\n",
       "      <td>0.410000</td>\n",
       "    </tr>\n",
       "    <tr>\n",
       "      <th>2</th>\n",
       "      <td>FBC_20171002_130000_Varney__Company</td>\n",
       "      <td>https://archive.org/details/FBC_20171002_13000...</td>\n",
       "      <td>2017-10-02T13:42:51Z</td>\n",
       "      <td>FOX Business</td>\n",
       "      <td>Varney  Company</td>\n",
       "      <td>2017-10-02T13:00:00Z</td>\n",
       "      <td>https://archive.org/download/FBC_20171002_1300...</td>\n",
       "      <td>...and ask about saving $1,000 on your walk-in...</td>\n",
       "      <td>[..., and, ask, about, saving, $, 1,000, on, y...</td>\n",
       "      <td>[..., ask, saving, $, 1,000, walk-in, bath, ,,...</td>\n",
       "      <td>[(..., :), (ask, NN), (saving, VBG), ($, $), (...</td>\n",
       "      <td>[(..., :), (and, CC), (ask, VB), (about, IN), ...</td>\n",
       "      <td>[walk-in, eastern, right, vegas]</td>\n",
       "      <td>[eastern, right, vega]</td>\n",
       "      <td>[0.0, 0.1530612244897959, 0.0]</td>\n",
       "      <td>0.153061</td>\n",
       "    </tr>\n",
       "    <tr>\n",
       "      <th>3</th>\n",
       "      <td>BLOOMBERG_20171002_080000_Bloomberg_Surveillance</td>\n",
       "      <td>https://archive.org/details/BLOOMBERG_20171002...</td>\n",
       "      <td>2017-10-02T09:02:10Z</td>\n",
       "      <td>Bloomberg</td>\n",
       "      <td>Bloomberg Surveillance</td>\n",
       "      <td>2017-10-02T08:00:00Z</td>\n",
       "      <td>https://archive.org/download/BLOOMBERG_2017100...</td>\n",
       "      <td>[no audio] the las vegas share says off-duty ...</td>\n",
       "      <td>[[, no, audio, ], the, las, vegas, share, says...</td>\n",
       "      <td>[[, audio, ], las, vegas, share, says, off-dut...</td>\n",
       "      <td>[([, JJ), (audio, NN), (], NNP), (las, VBZ), (...</td>\n",
       "      <td>[([, JJ), (no, DT), (audio, JJ), (], VBZ), (th...</td>\n",
       "      <td>[[, off-duty, mccarran, least, injured, outdoo...</td>\n",
       "      <td>[mccarran, least, injured, outdoor, global, po...</td>\n",
       "      <td>[0.0, -0.12, 0.0, 0.0, 0.0, 0.0, 0.0, 0.0]</td>\n",
       "      <td>-0.120000</td>\n",
       "    </tr>\n",
       "    <tr>\n",
       "      <th>4</th>\n",
       "      <td>FBC_20171002_130000_Varney__Company</td>\n",
       "      <td>https://archive.org/details/FBC_20171002_13000...</td>\n",
       "      <td>2017-10-02T13:36:41Z</td>\n",
       "      <td>FOX Business</td>\n",
       "      <td>Varney  Company</td>\n",
       "      <td>2017-10-02T13:00:00Z</td>\n",
       "      <td>https://archive.org/download/FBC_20171002_1300...</td>\n",
       "      <td>still congress is more than frustrating. i am ...</td>\n",
       "      <td>[still, congress, is, more, than, frustrating,...</td>\n",
       "      <td>[still, congress, frustrating, ., furious, ., ...</td>\n",
       "      <td>[(still, RB), (congress, JJ), (frustrating, VB...</td>\n",
       "      <td>[(still, RB), (congress, NN), (is, VBZ), (more...</td>\n",
       "      <td>[congress, furious, deadliest, u.s.]</td>\n",
       "      <td>[congress, furious, deadliest]</td>\n",
       "      <td>[0.0, 0.0, 0.0]</td>\n",
       "      <td>0.000000</td>\n",
       "    </tr>\n",
       "  </tbody>\n",
       "</table>\n",
       "</div>"
      ],
      "text/plain": [
       "                                         ia_show_id  \\\n",
       "0  FOXNEWSW_20171002_190000_Shepard_Smith_Reporting   \n",
       "1  BLOOMBERG_20171002_080000_Bloomberg_Surveillance   \n",
       "2               FBC_20171002_130000_Varney__Company   \n",
       "3  BLOOMBERG_20171002_080000_Bloomberg_Surveillance   \n",
       "4               FBC_20171002_130000_Varney__Company   \n",
       "\n",
       "                                         preview_url                  date  \\\n",
       "0  https://archive.org/details/FOXNEWSW_20171002_...  2017-10-02T19:32:03Z   \n",
       "1  https://archive.org/details/BLOOMBERG_20171002...  2017-10-02T08:45:32Z   \n",
       "2  https://archive.org/details/FBC_20171002_13000...  2017-10-02T13:42:51Z   \n",
       "3  https://archive.org/details/BLOOMBERG_20171002...  2017-10-02T09:02:10Z   \n",
       "4  https://archive.org/details/FBC_20171002_13000...  2017-10-02T13:36:41Z   \n",
       "\n",
       "        station                     show             show_date  \\\n",
       "0      FOX News  Shepard Smith Reporting  2017-10-02T19:00:00Z   \n",
       "1     Bloomberg   Bloomberg Surveillance  2017-10-02T08:00:00Z   \n",
       "2  FOX Business          Varney  Company  2017-10-02T13:00:00Z   \n",
       "3     Bloomberg   Bloomberg Surveillance  2017-10-02T08:00:00Z   \n",
       "4  FOX Business          Varney  Company  2017-10-02T13:00:00Z   \n",
       "\n",
       "                                       preview_thumb  \\\n",
       "0  https://archive.org/download/FOXNEWSW_20171002...   \n",
       "1  https://archive.org/download/BLOOMBERG_2017100...   \n",
       "2  https://archive.org/download/FBC_20171002_1300...   \n",
       "3  https://archive.org/download/BLOOMBERG_2017100...   \n",
       "4  https://archive.org/download/FBC_20171002_1300...   \n",
       "\n",
       "                                             snippet  \\\n",
       "0  shepard: thank you. a live look at the place w...   \n",
       "1  francine: they kill, thank you so much -- they...   \n",
       "2  ...and ask about saving $1,000 on your walk-in...   \n",
       "3   [no audio] the las vegas share says off-duty ...   \n",
       "4  still congress is more than frustrating. i am ...   \n",
       "\n",
       "                                     tokenized_words  \\\n",
       "0  [shepard, :, thank, you, ., a, live, look, at,...   \n",
       "1  [francine, :, they, kill, ,, thank, you, so, m...   \n",
       "2  [..., and, ask, about, saving, $, 1,000, on, y...   \n",
       "3  [[, no, audio, ], the, las, vegas, share, says...   \n",
       "4  [still, congress, is, more, than, frustrating,...   \n",
       "\n",
       "                                   tokenized_stopped  \\\n",
       "0  [shepard, :, thank, ., live, look, place, happ...   \n",
       "1  [francine, :, kill, ,, thank, much, --, kill, ...   \n",
       "2  [..., ask, saving, $, 1,000, walk-in, bath, ,,...   \n",
       "3  [[, audio, ], las, vegas, share, says, off-dut...   \n",
       "4  [still, congress, frustrating, ., furious, ., ...   \n",
       "\n",
       "                                      tagged_stopped  \\\n",
       "0  [(shepard, NN), (:, :), (thank, NN), (., .), (...   \n",
       "1  [(francine, NN), (:, :), (kill, NN), (,, ,), (...   \n",
       "2  [(..., :), (ask, NN), (saving, VBG), ($, $), (...   \n",
       "3  [([, JJ), (audio, NN), (], NNP), (las, VBZ), (...   \n",
       "4  [(still, RB), (congress, JJ), (frustrating, VB...   \n",
       "\n",
       "                                              tagged  \\\n",
       "0  [(shepard, NN), (:, :), (thank, NN), (you, PRP...   \n",
       "1  [(francine, NN), (:, :), (they, PRP), (kill, V...   \n",
       "2  [(..., :), (and, CC), (ask, VB), (about, IN), ...   \n",
       "3  [([, JJ), (no, DT), (audio, JJ), (], VBZ), (th...   \n",
       "4  [(still, RB), (congress, NN), (is, VBZ), (more...   \n",
       "\n",
       "                                          adjectives  \\\n",
       "0                     [live, quiet, las, hear, much]   \n",
       "1          [much, latest, understand, dead, injured]   \n",
       "2                   [walk-in, eastern, right, vegas]   \n",
       "3  [[, off-duty, mccarran, least, injured, outdoo...   \n",
       "4               [congress, furious, deadliest, u.s.]   \n",
       "\n",
       "                                          lemmatized  \\\n",
       "0                      [live, quiet, la, hear, much]   \n",
       "1          [much, latest, understand, dead, injured]   \n",
       "2                             [eastern, right, vega]   \n",
       "3  [mccarran, least, injured, outdoor, global, po...   \n",
       "4                     [congress, furious, deadliest]   \n",
       "\n",
       "                                               score  sentiment  \n",
       "0  [0.06818181818181818, 0.0, 0.0, 0.0, 0.0400000...   0.108182  \n",
       "1  [0.04000000000000001, 0.45, 0.0, -0.0800000000...   0.410000  \n",
       "2                     [0.0, 0.1530612244897959, 0.0]   0.153061  \n",
       "3         [0.0, -0.12, 0.0, 0.0, 0.0, 0.0, 0.0, 0.0]  -0.120000  \n",
       "4                                    [0.0, 0.0, 0.0]   0.000000  "
      ]
     },
     "execution_count": 16,
     "metadata": {},
     "output_type": "execute_result"
    },
    {
     "name": "stdout",
     "output_type": "stream",
     "text": [
      "time: 177 ms\n"
     ]
    }
   ],
   "source": [
    "df.head()"
   ]
  },
  {
   "cell_type": "code",
   "execution_count": null,
   "metadata": {
    "collapsed": true
   },
   "outputs": [],
   "source": []
  }
 ],
 "metadata": {
  "kernelspec": {
   "display_name": "Python 3",
   "language": "python",
   "name": "python3"
  },
  "language_info": {
   "codemirror_mode": {
    "name": "ipython",
    "version": 3
   },
   "file_extension": ".py",
   "mimetype": "text/x-python",
   "name": "python",
   "nbconvert_exporter": "python",
   "pygments_lexer": "ipython3",
   "version": "3.6.0"
  }
 },
 "nbformat": 4,
 "nbformat_minor": 2
}
